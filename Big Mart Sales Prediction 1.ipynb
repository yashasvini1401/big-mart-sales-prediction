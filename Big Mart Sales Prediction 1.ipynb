{
 "cells": [
  {
   "cell_type": "code",
   "execution_count": 1,
   "id": "270e6703",
   "metadata": {},
   "outputs": [],
   "source": [
    "#!pip install numpy -U pandas-profiling matplotlib seaborn klib dtale scikit-learn joblib"
   ]
  },
  {
   "cell_type": "code",
   "execution_count": 2,
   "id": "e0312a20",
   "metadata": {},
   "outputs": [],
   "source": [
    "import pandas as pd\n",
    "import numpy as np\n",
    "import seaborn as sns\n",
    "import matplotlib.pyplot as plt"
   ]
  },
  {
   "cell_type": "code",
   "execution_count": 3,
   "id": "5f41046e",
   "metadata": {},
   "outputs": [],
   "source": [
    "df_train=pd.read_csv(r'C:\\Users\\mahar\\OneDrive\\Desktop\\jupyter\\archive\\train.csv')\n",
    "df_test=pd.read_csv(r'C:\\Users\\mahar\\OneDrive\\Desktop\\jupyter\\archive\\test.csv')"
   ]
  },
  {
   "cell_type": "code",
   "execution_count": 4,
   "id": "37762faf",
   "metadata": {},
   "outputs": [],
   "source": [
    "df_train"
   ]
  },
  {
   "cell_type": "code",
   "execution_count": 5,
   "id": "0ebd1498",
   "metadata": {},
   "outputs": [],
   "source": [
    "#df_test"
   ]
  },
  {
   "cell_type": "code",
   "execution_count": 6,
   "id": "77ea7e07",
   "metadata": {},
   "outputs": [],
   "source": [
    "df_train.shape"
   ]
  },
  {
   "cell_type": "code",
   "execution_count": 7,
   "id": "00a49e11",
   "metadata": {},
   "outputs": [],
   "source": [
    "df_train.isnull().sum()"
   ]
  },
  {
   "cell_type": "code",
   "execution_count": 8,
   "id": "429d35d8",
   "metadata": {},
   "outputs": [],
   "source": [
    "df_test.isnull().sum()"
   ]
  },
  {
   "cell_type": "code",
   "execution_count": 9,
   "id": "8503242b",
   "metadata": {},
   "outputs": [],
   "source": [
    "df_test.shape"
   ]
  },
  {
   "cell_type": "code",
   "execution_count": 10,
   "id": "1a93a608",
   "metadata": {},
   "outputs": [],
   "source": [
    "df_train.info()"
   ]
  },
  {
   "cell_type": "code",
   "execution_count": 11,
   "id": "4e60c272",
   "metadata": {},
   "outputs": [],
   "source": [
    "df_train.describe()"
   ]
  },
  {
   "cell_type": "code",
   "execution_count": 12,
   "id": "083d3ace",
   "metadata": {},
   "outputs": [],
   "source": [
    "#Item_Weight is numerical column so we fill it with Mean Imputation"
   ]
  },
  {
   "cell_type": "code",
   "execution_count": 13,
   "id": "7b52ec26",
   "metadata": {},
   "outputs": [],
   "source": [
    "df_train['Item_Weight'].describe()"
   ]
  },
  {
   "cell_type": "code",
   "execution_count": 14,
   "id": "2cb5bd05",
   "metadata": {},
   "outputs": [],
   "source": [
    "df_train['Item_Weight'].fillna(df_train['Item_Weight'].mean(),inplace=True)\n",
    "df_test['Item_Weight'].fillna(df_test['Item_Weight'].mean(),inplace=True)"
   ]
  },
  {
   "cell_type": "code",
   "execution_count": 15,
   "id": "ad98344c",
   "metadata": {},
   "outputs": [],
   "source": [
    "df_test.isnull().sum()"
   ]
  },
  {
   "cell_type": "code",
   "execution_count": 16,
   "id": "877a9d0f",
   "metadata": {},
   "outputs": [],
   "source": [
    "df_train['Item_Weight'].describe()"
   ]
  },
  {
   "cell_type": "code",
   "execution_count": null,
   "id": "e124f617",
   "metadata": {},
   "outputs": [],
   "source": []
  },
  {
   "cell_type": "code",
   "execution_count": 17,
   "id": "5575ee84",
   "metadata": {},
   "outputs": [],
   "source": [
    "#Outlet_Size is catagorical column so we fill it with Mode Imputation"
   ]
  },
  {
   "cell_type": "code",
   "execution_count": 18,
   "id": "6d589dde",
   "metadata": {},
   "outputs": [],
   "source": [
    "df_train['Outlet_Size'].describe()"
   ]
  },
  {
   "cell_type": "code",
   "execution_count": 19,
   "id": "7e477a82",
   "metadata": {},
   "outputs": [],
   "source": [
    "df_train['Outlet_Size']"
   ]
  },
  {
   "cell_type": "code",
   "execution_count": 20,
   "id": "1130f262",
   "metadata": {},
   "outputs": [],
   "source": [
    "df_train['Outlet_Size'].value_counts()"
   ]
  },
  {
   "cell_type": "code",
   "execution_count": 21,
   "id": "da71760d",
   "metadata": {},
   "outputs": [],
   "source": [
    "df_train['Outlet_Size'].mode()"
   ]
  },
  {
   "cell_type": "code",
   "execution_count": 22,
   "id": "b1e30b3f",
   "metadata": {},
   "outputs": [],
   "source": [
    "df_train['Outlet_Size'].fillna(df_train['Outlet_Size'].mode()[0],inplace=True)\n",
    "df_test['Outlet_Size'].fillna(df_test['Outlet_Size'].mode()[0],inplace=True)"
   ]
  },
  {
   "cell_type": "code",
   "execution_count": 23,
   "id": "936ea303",
   "metadata": {},
   "outputs": [],
   "source": [
    "df_test.isnull().sum()"
   ]
  },
  {
   "cell_type": "raw",
   "id": "dc1c98fe",
   "metadata": {},
   "source": []
  },
  {
   "cell_type": "markdown",
   "id": "0c71b273",
   "metadata": {},
   "source": [
    "# Selecting Features Based On Requirements"
   ]
  },
  {
   "cell_type": "code",
   "execution_count": 24,
   "id": "0fc922ab",
   "metadata": {},
   "outputs": [],
   "source": [
    "df_train.drop(['Item_Identifier','Outlet_Identifier'],axis=1,inplace=True)\n",
    "df_test.drop(['Item_Identifier','Outlet_Identifier'],axis=1,inplace=True)"
   ]
  },
  {
   "cell_type": "code",
   "execution_count": 25,
   "id": "8559965b",
   "metadata": {},
   "outputs": [],
   "source": [
    "df_train"
   ]
  },
  {
   "cell_type": "code",
   "execution_count": null,
   "id": "3ec51fcd",
   "metadata": {},
   "outputs": [],
   "source": []
  },
  {
   "cell_type": "markdown",
   "id": "c72615a5",
   "metadata": {},
   "source": [
    "# EDA (Exploratory Data Analysis) "
   ]
  },
  {
   "cell_type": "markdown",
   "id": "67312da8",
   "metadata": {},
   "source": [
    "### >>EDA Using Dtale lib"
   ]
  },
  {
   "cell_type": "code",
   "execution_count": 26,
   "id": "096ac5d9",
   "metadata": {},
   "outputs": [],
   "source": [
    "import dtale"
   ]
  },
  {
   "cell_type": "code",
   "execution_count": 27,
   "id": "0f597472",
   "metadata": {},
   "outputs": [],
   "source": [
    "dtale.show(df_train)"
   ]
  },
  {
   "cell_type": "code",
   "execution_count": null,
   "id": "5f9248ec",
   "metadata": {},
   "outputs": [],
   "source": []
  },
  {
   "cell_type": "markdown",
   "id": "97048993",
   "metadata": {},
   "source": [
    "### >>Checking Correlation Using Seaborn"
   ]
  },
  {
   "cell_type": "code",
   "execution_count": 28,
   "id": "39ab985b",
   "metadata": {},
   "outputs": [],
   "source": [
    "plt.figure(figsize=(10,5))\n",
    "sns.heatmap(df_train.corr(),annot=True)\n",
    "plt.show()"
   ]
  },
  {
   "cell_type": "markdown",
   "id": "712f0609",
   "metadata": {},
   "source": [
    "### >>EDA using klib library"
   ]
  },
  {
   "cell_type": "code",
   "execution_count": 29,
   "id": "fedd51a0",
   "metadata": {},
   "outputs": [],
   "source": [
    "import klib\n",
    "#it tells about visualizing datasets"
   ]
  },
  {
   "cell_type": "code",
   "execution_count": 30,
   "id": "dc98992c",
   "metadata": {},
   "outputs": [],
   "source": [
    "klib.cat_plot(df_train)"
   ]
  },
  {
   "cell_type": "code",
   "execution_count": 31,
   "id": "cbefcc11",
   "metadata": {},
   "outputs": [],
   "source": [
    "klib.corr_mat(df_train)"
   ]
  },
  {
   "cell_type": "code",
   "execution_count": 32,
   "id": "408080d3",
   "metadata": {},
   "outputs": [],
   "source": [
    "klib.corr_plot(df_train)"
   ]
  },
  {
   "cell_type": "code",
   "execution_count": 33,
   "id": "2da9f4a0",
   "metadata": {},
   "outputs": [],
   "source": [
    "klib.dist_plot(df_train)"
   ]
  },
  {
   "cell_type": "code",
   "execution_count": null,
   "id": "376e25d8",
   "metadata": {},
   "outputs": [],
   "source": []
  },
  {
   "cell_type": "markdown",
   "id": "62866485",
   "metadata": {},
   "source": [
    "# Data Cleaning Using Klib Llibrary"
   ]
  },
  {
   "cell_type": "code",
   "execution_count": 34,
   "id": "087be8e1",
   "metadata": {},
   "outputs": [],
   "source": [
    " #klib.clean - functions for cleaning datasets"
   ]
  },
  {
   "cell_type": "code",
   "execution_count": 35,
   "id": "ca1e606a",
   "metadata": {},
   "outputs": [],
   "source": [
    "klib.data_cleaning(df_train) # performs datacleaning (drop duplicates & empty rows/cols, adjust dtypes,...)"
   ]
  },
  {
   "cell_type": "code",
   "execution_count": 36,
   "id": "34dc0cf6",
   "metadata": {},
   "outputs": [],
   "source": [
    "klib.clean_column_names(df_train) # cleans and standardizes column names, also called inside data_cleaning()"
   ]
  },
  {
   "cell_type": "code",
   "execution_count": 37,
   "id": "b8e2a536",
   "metadata": {},
   "outputs": [],
   "source": [
    "df_train=klib.convert_datatypes(df_train) # converts existing to more efficient dtypes, also called inside data_cleaning()\n"
   ]
  },
  {
   "cell_type": "code",
   "execution_count": null,
   "id": "b544e249",
   "metadata": {},
   "outputs": [],
   "source": []
  },
  {
   "cell_type": "code",
   "execution_count": null,
   "id": "5c366fbd",
   "metadata": {},
   "outputs": [],
   "source": []
  },
  {
   "cell_type": "markdown",
   "id": "8995e1e0",
   "metadata": {},
   "source": [
    "# Preprocessing task before Model Building "
   ]
  },
  {
   "cell_type": "markdown",
   "id": "f8e83f02",
   "metadata": {},
   "source": [
    "### >>Label Encoding"
   ]
  },
  {
   "cell_type": "code",
   "execution_count": 38,
   "id": "f79533a3",
   "metadata": {},
   "outputs": [],
   "source": [
    "from sklearn.preprocessing import LabelEncoder\n",
    "le=LabelEncoder()"
   ]
  },
  {
   "cell_type": "code",
   "execution_count": 39,
   "id": "f8b62b22",
   "metadata": {},
   "outputs": [],
   "source": [
    "df_train=df_train.apply(le.fit_transform)"
   ]
  },
  {
   "cell_type": "code",
   "execution_count": 40,
   "id": "6c89cef3",
   "metadata": {},
   "outputs": [],
   "source": [
    "df_train"
   ]
  },
  {
   "cell_type": "markdown",
   "id": "a1090580",
   "metadata": {},
   "source": [
    "### >>One Hot Encoding"
   ]
  },
  {
   "cell_type": "code",
   "execution_count": 41,
   "id": "51b3a4b5",
   "metadata": {},
   "outputs": [],
   "source": [
    "df_train =pd.get_dummies(df_train,columns=['item_fat_content','outlet_size','outlet_location_type','outlet_type'])"
   ]
  },
  {
   "cell_type": "code",
   "execution_count": 42,
   "id": "4ffbd238",
   "metadata": {},
   "outputs": [],
   "source": [
    "df_train"
   ]
  },
  {
   "cell_type": "code",
   "execution_count": null,
   "id": "dd529f16",
   "metadata": {},
   "outputs": [],
   "source": []
  },
  {
   "cell_type": "code",
   "execution_count": null,
   "id": "cb35a6c1",
   "metadata": {},
   "outputs": [],
   "source": []
  },
  {
   "cell_type": "markdown",
   "id": "33cdc0f6",
   "metadata": {},
   "source": [
    "# Splitting Data Into Training And Testing"
   ]
  },
  {
   "cell_type": "code",
   "execution_count": 43,
   "id": "a256097c",
   "metadata": {},
   "outputs": [],
   "source": [
    "X=df_train.drop('item_outlet_sales',axis=1)"
   ]
  },
  {
   "cell_type": "code",
   "execution_count": 44,
   "id": "4349fc9c",
   "metadata": {},
   "outputs": [],
   "source": [
    "Y=df_train['item_outlet_sales']"
   ]
  },
  {
   "cell_type": "code",
   "execution_count": 45,
   "id": "e336e585",
   "metadata": {},
   "outputs": [],
   "source": [
    "Y"
   ]
  },
  {
   "cell_type": "code",
   "execution_count": null,
   "id": "8d9557b0",
   "metadata": {},
   "outputs": [],
   "source": []
  },
  {
   "cell_type": "code",
   "execution_count": 46,
   "id": "38a30442",
   "metadata": {},
   "outputs": [],
   "source": [
    "from sklearn.model_selection import train_test_split\n",
    "X_train,X_test,Y_train,Y_test=train_test_split(X,Y)"
   ]
  },
  {
   "cell_type": "code",
   "execution_count": null,
   "id": "e2ba7026",
   "metadata": {},
   "outputs": [],
   "source": []
  },
  {
   "cell_type": "markdown",
   "id": "9e5e4384",
   "metadata": {},
   "source": [
    "# Standarization"
   ]
  },
  {
   "cell_type": "code",
   "execution_count": 47,
   "id": "8246bf35",
   "metadata": {},
   "outputs": [],
   "source": [
    "X.describe()"
   ]
  },
  {
   "cell_type": "code",
   "execution_count": 48,
   "id": "a3e9c2f6",
   "metadata": {},
   "outputs": [],
   "source": [
    "from sklearn.preprocessing import StandardScaler\n",
    "sc=StandardScaler()"
   ]
  },
  {
   "cell_type": "code",
   "execution_count": 49,
   "id": "854db60c",
   "metadata": {},
   "outputs": [],
   "source": [
    "X_train_std=sc.fit_transform(X_train)"
   ]
  },
  {
   "cell_type": "code",
   "execution_count": 50,
   "id": "fdfbd68d",
   "metadata": {},
   "outputs": [],
   "source": [
    "X_test_std=sc.transform(X_test)"
   ]
  },
  {
   "cell_type": "code",
   "execution_count": 51,
   "id": "0e175f35",
   "metadata": {},
   "outputs": [],
   "source": [
    "X_train_std"
   ]
  },
  {
   "cell_type": "code",
   "execution_count": 52,
   "id": "009a8623",
   "metadata": {},
   "outputs": [],
   "source": [
    "X_test_std"
   ]
  },
  {
   "cell_type": "code",
   "execution_count": 53,
   "id": "78d2e86f",
   "metadata": {},
   "outputs": [],
   "source": [
    "Y_train"
   ]
  },
  {
   "cell_type": "code",
   "execution_count": 54,
   "id": "2c930dce",
   "metadata": {},
   "outputs": [],
   "source": [
    "Y_test"
   ]
  },
  {
   "cell_type": "code",
   "execution_count": null,
   "id": "2217bbeb",
   "metadata": {},
   "outputs": [],
   "source": []
  },
  {
   "cell_type": "markdown",
   "id": "4327126e",
   "metadata": {},
   "source": [
    "# Model Building"
   ]
  },
  {
   "cell_type": "code",
   "execution_count": null,
   "id": "5ffd251b",
   "metadata": {},
   "outputs": [],
   "source": []
  },
  {
   "cell_type": "code",
   "execution_count": 55,
   "id": "d19fbe66",
   "metadata": {},
   "outputs": [],
   "source": [
    "from sklearn.linear_model import LinearRegression\n",
    "lr=LinearRegression()"
   ]
  },
  {
   "cell_type": "code",
   "execution_count": 56,
   "id": "1385b410",
   "metadata": {},
   "outputs": [],
   "source": [
    "lr.fit(X_train_std,Y_train)"
   ]
  },
  {
   "cell_type": "code",
   "execution_count": 57,
   "id": "204b8233",
   "metadata": {},
   "outputs": [],
   "source": [
    "lr.predict(X_test_std)"
   ]
  },
  {
   "cell_type": "code",
   "execution_count": 58,
   "id": "8d61d32c",
   "metadata": {},
   "outputs": [],
   "source": [
    "Y_test"
   ]
  },
  {
   "cell_type": "code",
   "execution_count": 59,
   "id": "7af0900c",
   "metadata": {},
   "outputs": [],
   "source": [
    "Y_predict_lr=lr.predict(X_test_std)"
   ]
  },
  {
   "cell_type": "code",
   "execution_count": 60,
   "id": "51d10e97",
   "metadata": {},
   "outputs": [],
   "source": [
    "from sklearn.metrics import r2_score,mean_absolute_error,mean_squared_error"
   ]
  },
  {
   "cell_type": "code",
   "execution_count": 61,
   "id": "d7d330b8",
   "metadata": {},
   "outputs": [],
   "source": [
    "r2_score(Y_test,Y_predict_lr)\n"
   ]
  },
  {
   "cell_type": "code",
   "execution_count": 62,
   "id": "9e4311b8",
   "metadata": {},
   "outputs": [],
   "source": [
    "print(np.sqrt(mean_squared_error(Y_test,Y_predict_lr)))"
   ]
  },
  {
   "cell_type": "code",
   "execution_count": 63,
   "id": "56cd2670",
   "metadata": {},
   "outputs": [],
   "source": [
    "mean_absolute_error(Y_test,Y_predict_lr)"
   ]
  },
  {
   "cell_type": "code",
   "execution_count": 64,
   "id": "991b2fc8",
   "metadata": {},
   "outputs": [],
   "source": [
    "!pip install sklearn --upgrade"
   ]
  },
  {
   "cell_type": "code",
   "execution_count": 65,
   "id": "84f376a0",
   "metadata": {},
   "outputs": [],
   "source": [
    "!pip install joblib --upgrade\n",
    "import joblib"
   ]
  },
  {
   "cell_type": "code",
   "execution_count": 66,
   "id": "32592752",
   "metadata": {},
   "outputs": [],
   "source": [
    "joblib.dump(lr,r'C:\\Users\\mahar\\OneDrive\\Desktop\\jupyter\\archive\\lr.sav')"
   ]
  },
  {
   "cell_type": "code",
   "execution_count": null,
   "id": "d9942709",
   "metadata": {},
   "outputs": [],
   "source": []
  },
  {
   "cell_type": "code",
   "execution_count": 79,
   "id": "22af1c88",
   "metadata": {},
   "outputs": [],
   "source": [
    "from sklearn.ensemble import RandomForestRegressor\n",
    "rf= RandomForestRegressor()"
   ]
  },
  {
   "cell_type": "code",
   "execution_count": 80,
   "id": "d85bf60f",
   "metadata": {},
   "outputs": [],
   "source": [
    "rf.fit(X_train_std,Y_train)"
   ]
  },
  {
   "cell_type": "code",
   "execution_count": 81,
   "id": "d280724a",
   "metadata": {},
   "outputs": [],
   "source": [
    "Y_pred_rf= rf.predict(X_test_std)"
   ]
  },
  {
   "cell_type": "code",
   "execution_count": 82,
   "id": "5e881c5a",
   "metadata": {},
   "outputs": [],
   "source": [
    "print(r2_score(Y_test,Y_pred_rf))\n",
    "print(mean_absolute_error(Y_test,Y_pred_rf))\n",
    "print(np.sqrt(mean_squared_error(Y_test,Y_pred_rf)))"
   ]
  },
  {
   "cell_type": "code",
   "execution_count": null,
   "id": "844aa83c",
   "metadata": {},
   "outputs": [],
   "source": []
  },
  {
   "cell_type": "markdown",
   "id": "a83fde52",
   "metadata": {},
   "source": [
    "# Hyper Parameter Tuning"
   ]
  },
  {
   "cell_type": "code",
   "execution_count": 83,
   "id": "e771ff33",
   "metadata": {},
   "outputs": [],
   "source": [
    "from sklearn.model_selection import RepeatedStratifiedKFold\n",
    "from sklearn.model_selection import GridSearchCV\n",
    "\n",
    "# define models and parameters\n",
    "model = RandomForestRegressor()\n",
    "n_estimators = [10, 100, 1000]\n",
    "max_depth=range(1,31)\n",
    "min_samples_leaf=np.linspace(0.1, 1.0)\n",
    "max_features=[\"auto\", \"sqrt\", \"log2\"]\n",
    "min_samples_split=np.linspace(0.1, 1.0, 10)\n",
    "\n",
    "# define grid search\n",
    "grid = dict(n_estimators=n_estimators)\n",
    "\n",
    "#cv = RepeatedStratifiedKFold(n_splits=5, n_repeats=3, random_state=101)\n",
    "\n",
    "grid_search_forest = GridSearchCV(estimator=model, param_grid=grid, n_jobs=-1, \n",
    "                           scoring='r2',error_score=0,verbose=2,cv=2)\n",
    "\n",
    "grid_search_forest.fit(X_train_std, Y_train)\n",
    "\n",
    "# summarize results\n",
    "print(f\"Best: {grid_search_forest.best_score_:.3f} using {grid_search_forest.best_params_}\")\n",
    "means = grid_search_forest.cv_results_['mean_test_score']\n",
    "stds = grid_search_forest.cv_results_['std_test_score']\n",
    "params = grid_search_forest.cv_results_['params']\n",
    "\n",
    "for mean, stdev, param in zip(means, stds, params):\n",
    "    print(f\"{mean:.3f} ({stdev:.3f}) with: {param}\")\n"
   ]
  },
  {
   "cell_type": "code",
   "execution_count": 84,
   "id": "900fc551",
   "metadata": {},
   "outputs": [],
   "source": [
    "grid_search_forest.best_params_"
   ]
  },
  {
   "cell_type": "code",
   "execution_count": 85,
   "id": "86ee5eac",
   "metadata": {},
   "outputs": [],
   "source": [
    "grid_search_forest.best_score_"
   ]
  },
  {
   "cell_type": "code",
   "execution_count": 86,
   "id": "1972330a",
   "metadata": {},
   "outputs": [],
   "source": [
    "Y_pred_rf_grid=grid_search_forest.predict(X_test_std)"
   ]
  },
  {
   "cell_type": "code",
   "execution_count": 87,
   "id": "53f1efdf",
   "metadata": {},
   "outputs": [],
   "source": [
    "r2_score(Y_test,Y_pred_rf_grid)"
   ]
  },
  {
   "cell_type": "code",
   "execution_count": null,
   "id": "8646c664",
   "metadata": {},
   "outputs": [],
   "source": []
  },
  {
   "cell_type": "markdown",
   "id": "48be3928",
   "metadata": {},
   "source": [
    "# Save the Model"
   ]
  },
  {
   "cell_type": "code",
   "execution_count": 88,
   "id": "badae927",
   "metadata": {},
   "outputs": [],
   "source": [
    "import joblib"
   ]
  },
  {
   "cell_type": "code",
   "execution_count": 89,
   "id": "148dfb0b",
   "metadata": {},
   "outputs": [],
   "source": [
    "joblib.dump(grid_search_forest,r'C:\\Users\\mahar\\OneDrive\\Desktop\\jupyter\\archive\\random_forest_grid.sav')"
   ]
  },
  {
   "cell_type": "code",
   "execution_count": 90,
   "id": "65d0e71f",
   "metadata": {},
   "outputs": [],
   "source": [
    "model=joblib.load(r'C:\\Users\\mahar\\OneDrive\\Desktop\\jupyter\\archive\\random_forest_grid.sav')"
   ]
  },
  {
   "cell_type": "code",
   "execution_count": null,
   "id": "ef508bce",
   "metadata": {},
   "outputs": [],
   "source": []
  }
 ],
 "metadata": {
  "kernelspec": {
   "display_name": "Python 3 (ipykernel)",
   "language": "python",
   "name": "python3"
  },
  "language_info": {
   "codemirror_mode": {
    "name": "ipython",
    "version": 3
   },
   "file_extension": ".py",
   "mimetype": "text/x-python",
   "name": "python",
   "nbconvert_exporter": "python",
   "pygments_lexer": "ipython3",
   "version": "3.11.4"
  }
 },
 "nbformat": 4,
 "nbformat_minor": 5
}
